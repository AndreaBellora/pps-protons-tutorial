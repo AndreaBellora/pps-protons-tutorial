{
 "cells": [
  {
   "cell_type": "markdown",
   "metadata": {},
   "source": [
    "# Compute efficiency distributions for a proton sample"
   ]
  },
  {
   "cell_type": "code",
   "execution_count": 4,
   "metadata": {},
   "outputs": [],
   "source": [
    "#!python3 -m pip install --user uproot4 awkward1 mplhep"
   ]
  },
  {
   "cell_type": "code",
   "execution_count": 10,
   "metadata": {},
   "outputs": [],
   "source": [
    "import numpy as np\n",
    "import pandas as pd\n",
    "import h5py\n",
    "import matplotlib.pyplot as plt\n",
    "import mplhep"
   ]
  },
  {
   "cell_type": "markdown",
   "metadata": {},
   "source": [
    "### Proton reconstruction flavours\n",
    "\n",
    "We will look at two ways to reconstruct protons in PPS: _single-RP_ and _multi-RP_\n",
    "\n",
    "The flag below controls which proton reconstruction is used.\n",
    "\n",
    "In the multi-RP reconstruction, both \"near\" and \"far\" tracking detector stations in one spectrometer arm are used. \n",
    "\n",
    "In the single-RP reconstruction, the proton kinematics is only partially reconstructed from a single detector station. In this case we will use the \"far\" station. In the 2017 detector configuration, this corresponds to the stations using pixel detectors."
   ]
  },
  {
   "cell_type": "code",
   "execution_count": 11,
   "metadata": {},
   "outputs": [],
   "source": [
    "fileName_data = \"data/output-UL2017B-PreSel.h5\"\n",
    "#fileName_data = \"data/output-UL2017C1-PreSel.h5\"\n",
    "#fileName_data = \"data/output-UL2017F1-PreSel.h5\"\n",
    "#fileNames_data = [\n",
    "#    'data/output-UL2017B-PreSel.h5',\n",
    "#    'data/output-UL2017C1-PreSel.h5',\n",
    "#    'data/output-UL2017F1-PreSel.h5'\n",
    "#]\n",
    "\n",
    "#proton_selection = \"SingleRP\"\n",
    "proton_selection = \"MultiRP\""
   ]
  },
  {
   "cell_type": "markdown",
   "metadata": {},
   "source": [
    "## Access the data"
   ]
  },
  {
   "cell_type": "code",
   "execution_count": 13,
   "metadata": {},
   "outputs": [
    {
     "name": "stdout",
     "output_type": "stream",
     "text": [
      "['columns', 'event_counts', 'protons', 'selections']\n",
      "(212317, 38)\n",
      "[[1.00000000e+00 1.00000000e+00 4.29496730e+09 ... 9.13764843e-04\n",
      "  2.35298625e-02 4.41197067e-03]\n",
      " [1.00000000e+00 1.00000000e+00 4.29496730e+09 ... 8.79983866e-04\n",
      "  4.58796041e-03 8.15103097e-02]\n",
      " [1.00000000e+00 1.00000000e+00 4.29496730e+09 ... 8.79983866e-04\n",
      "  4.58796041e-03 8.15103097e-02]\n",
      " ...\n",
      " [1.00000000e+00 7.56000000e+02 4.29496730e+09 ... 1.85212595e-04\n",
      "  3.62914948e-02 3.05966531e-03]\n",
      " [1.00000000e+00 7.56000000e+02 4.29496730e+09 ... 1.85212595e-04\n",
      "  3.62914948e-02 3.05966531e-03]\n",
      " [1.00000000e+00 7.56000000e+02 4.29496730e+09 ... 1.50995244e-04\n",
      "  2.04409396e-02 4.87857127e-03]]\n",
      "(38,)\n",
      "[b'Run', b'LumiSection', b'BX', b'EventNum', b'CrossingAngle', b'MultiRP', b'Arm', b'RPId1', b'RPId2', b'TrackX1', b'TrackY1', b'TrackX2', b'TrackY2', b'Xi', b'T', b'ThX', b'ThY', b'Time', b'TrackThX_SingleRP', b'TrackThY_SingleRP', b'Track1ThX_MultiRP', b'Track1ThY_MultiRP', b'Track2ThX_MultiRP', b'Track2ThY_MultiRP', b'Muon0Pt', b'Muon0Eta', b'Muon0Phi', b'Muon0VtxZ', b'Muon1Pt', b'Muon1Eta', b'Muon1Phi', b'Muon1VtxZ', b'PrimVertexZ', b'InvMass', b'ExtraPfCands', b'Acopl', b'XiMuMuPlus', b'XiMuMuMinus']\n",
      "['Run', 'LumiSection', 'BX', 'EventNum', 'CrossingAngle', 'MultiRP', 'Arm', 'RPId1', 'RPId2', 'TrackX1', 'TrackY1', 'TrackX2', 'TrackY2', 'Xi', 'T', 'ThX', 'ThY', 'Time', 'TrackThX_SingleRP', 'TrackThY_SingleRP', 'Track1ThX_MultiRP', 'Track1ThY_MultiRP', 'Track2ThX_MultiRP', 'Track2ThY_MultiRP', 'Muon0Pt', 'Muon0Eta', 'Muon0Phi', 'Muon0VtxZ', 'Muon1Pt', 'Muon1Eta', 'Muon1Phi', 'Muon1VtxZ', 'PrimVertexZ', 'InvMass', 'ExtraPfCands', 'Acopl', 'XiMuMuPlus', 'XiMuMuMinus']\n",
      "[178402, 166756, 149608, 90874]\n",
      "[b'All', b'Muon', b'Vertex', b'Protons']\n",
      "['All', 'Muon', 'Vertex', 'Protons']\n"
     ]
    }
   ],
   "source": [
    "df_signal = None\n",
    "event_counts_signal = None\n",
    "selections_str_signal = None\n",
    "\n",
    "with h5py.File( fileName_signal, 'r' ) as f:\n",
    "    print ( list(f.keys()) )\n",
    "    dset = f['protons']\n",
    "    print ( dset.shape )\n",
    "    print ( dset[:,:] )\n",
    "    dset_columns = f['columns']\n",
    "    print ( dset_columns.shape )\n",
    "    columns = list( dset_columns )\n",
    "    print ( columns )\n",
    "    columns_str = [ item.decode(\"utf-8\") for item in columns ]\n",
    "    print ( columns_str )\n",
    "    \n",
    "    dset_counts = f['event_counts']\n",
    "    event_counts_signal = list( dset_counts )\n",
    "    print ( event_counts_signal )\n",
    "    \n",
    "    dset_selections = f['selections']\n",
    "    selections_ = list( dset_selections )\n",
    "    print ( selections_ )\n",
    "    selections_str_signal = [ item.decode(\"utf-8\") for item in selections_ ]\n",
    "    print ( selections_str_signal )\n",
    "    \n",
    "    df_signal = pd.DataFrame( dset, columns=columns_str )\n",
    "    \n",
    "    df_signal = df_signal[ ['Run', 'LumiSection', 'EventNum', 'CrossingAngle', \n",
    "                            'MultiRP', 'Arm', 'RPId1', 'RPId2', 'TrackX1', 'TrackY1', 'TrackX2', 'TrackY2',\n",
    "                            'Xi', 'T', 'ThX', 'ThY',\n",
    "                            'Muon0Pt', 'Muon1Pt', 'InvMass', 'ExtraPfCands', 'Acopl', 'XiMuMuPlus', 'XiMuMuMinus'] ].astype( { \"Run\": \"int64\", \"LumiSection\": \"int64\", \"EventNum\": \"int64\", \"MultiRP\": \"int32\", \"Arm\": \"int32\", \"RPId1\": \"int32\", \"RPId2\": \"int32\", \"ExtraPfCands\": \"int32\" } )\n",
    "    "
   ]
  },
  {
   "cell_type": "markdown",
   "metadata": {},
   "source": [
    "### Proton efficiency evaluation\n",
    "\n",
    "We will evaluate the efficiency correction for _multi-RP_ protons. \n",
    "\n",
    "This has to be computed as the product of the efficiency of the \"near\" detector station (silicon strips, in 2017) and the \"multiRP efficiency\".\n",
    "\n",
    "The efficiency components for the near RP station is divided in two parts: multitrack and sensor. \n",
    "The former accounts the inefficiency caused by strips detectors not being abla to reconstruct multiple tracks in the same event. This is a single numeric factor.\n",
    "The sensor efficiency takes into account local inefficiencies caused, e.g., by radiation damage and is supplied as a 2D, xy map. \n",
    "\n",
    "The multiRP efficiency accounts instead for both the sensor efficiency of the \"far\" RP (pixels in 2017 and 2018) and the inefficiency component given by the proton chance of interacting while travelling from the near to the far RP. Again, this is supplied as a 2D, xy map.\n",
    "\n",
    "A different measurement is available for each data period here included: 2017B, 2017C1, 2017F1.\n",
    "\n",
    "Despite being counter-intuitive, it should be noted that, for near RP efficiencies one should use the xy coordinates measured in the far RP (TrackX2/TrackY2) and for multiRP the ones measured in the near RP (TrackX1/TrackY1). This is a consequence of the Tag&Probe method used to produce the efficiency corrections."
   ]
  },
  {
   "cell_type": "code",
   "execution_count": 45,
   "metadata": {},
   "outputs": [
    {
     "name": "stdout",
     "output_type": "stream",
     "text": [
      "0.4166666567325592\n",
      "0.6923076923076923\n"
     ]
    }
   ],
   "source": [
    "import ROOT\n",
    "\n",
    "# Efficiency correction files\n",
    "strips_efficiency_file = ROOT.TFile.Open(\"/eos/project/c/ctpps/subsystems/Strips/StripsTracking/PreliminaryEfficiencies_July132020_1D2DMultiTrack.root\")\n",
    "multiRP_efficiency_file = ROOT.TFile.Open(\"/eos/project/c/ctpps/subsystems/Pixel/RPixTracking/pixelEfficiencies_multiRP.root\")\n",
    "\n",
    "data_taking_period = \"2017B\"\n",
    "year = data_taking_period[:4]\n",
    "\n",
    "strips_multitrack_efficiency = {}\n",
    "strips_sensor_efficiency = {}\n",
    "multiRP_efficiency = {}\n",
    "\n",
    "# Retrieve histograms from files and save them in dictionaries for future usage\n",
    "for sector in [\"45\",\"56\"]:\n",
    "    strips_multitrack_efficiency[sector] = strips_efficiency_file.Get(\"Strips/2017/2017B/h45multitrackeff_2017B_avg_RP3\").GetBinContent(1)\n",
    "    strips_sensor_efficiency[sector] = strips_efficiency_file.Get(\"Strips/\"+year+\"/\"+data_taking_period+\"/h\"+sector+\"_\"+data_taking_period+\"_all_2D\")\n",
    "    multiRP_efficiency[sector] = multiRP_efficiency_file.Get(\"Pixel/\"+year+\"/\"+data_taking_period+\"/h\"+sector+\"_220_\"+data_taking_period+\"_all_2D\")"
   ]
  },
  {
   "cell_type": "code",
   "execution_count": null,
   "metadata": {},
   "outputs": [],
   "source": []
  }
 ],
 "metadata": {
  "kernelspec": {
   "display_name": "Python 3",
   "language": "python",
   "name": "python3"
  },
  "language_info": {
   "codemirror_mode": {
    "name": "ipython",
    "version": 3
   },
   "file_extension": ".py",
   "mimetype": "text/x-python",
   "name": "python",
   "nbconvert_exporter": "python",
   "pygments_lexer": "ipython3",
   "version": "3.7.6"
  }
 },
 "nbformat": 4,
 "nbformat_minor": 4
}
